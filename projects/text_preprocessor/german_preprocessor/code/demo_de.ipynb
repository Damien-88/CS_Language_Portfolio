{
 "cells": [
  {
   "cell_type": "markdown",
   "id": "8d797cb0",
   "metadata": {},
   "source": [
    "# German Text Preprocessor Demo"
   ]
  },
  {
   "cell_type": "markdown",
   "id": "ba4e4190",
   "metadata": {},
   "source": [
    "### Environment Setup"
   ]
  },
  {
   "cell_type": "code",
   "execution_count": 30,
   "id": "f86a2fa5",
   "metadata": {},
   "outputs": [],
   "source": [
    "import sys\n",
    "from pathlib import Path\n",
    "import random\n",
    "\n",
    "# Path to the root directory of the project\n",
    "sys.path.append(str(Path(\".../code\").resolve()))\n",
    "\n",
    "# Import custom preprocessing and utility functions\n",
    "from preprocess_de import (\n",
    "    clean_text, \n",
    "    tokenize_text, \n",
    "    remove_stopwords, \n",
    "    lemmatize_tokens, \n",
    "    process_file\n",
    ")\n",
    "from utils_de import read_text_file, write_text_file\n",
    "\n",
    "# Import database operation libraries\n",
    "import sqlite3\n",
    "import pandas as pd\n",
    "\n",
    "# File paths\n",
    "DATA_DIR = Path(\"../data\")\n",
    "INPUT_FILE = DATA_DIR / \"sample_de.txt\"\n",
    "DB_FILE = DATA_DIR / \"processed_results_de.db\""
   ]
  },
  {
   "cell_type": "markdown",
   "id": "54a2ced4",
   "metadata": {},
   "source": [
    "### Preview Sample Text"
   ]
  },
  {
   "cell_type": "code",
   "execution_count": 31,
   "id": "deaed68e",
   "metadata": {},
   "outputs": [
    {
     "name": "stdout",
     "output_type": "stream",
     "text": [
      "Orignal DE Texts:\n",
      "\n",
      "- Das ist ein sehr interessantes Buch.\n",
      "- Ich gehe morgen ins Kino.\n",
      "- Wir haben gestern Fußball gespielt.\n",
      "- Deutschland hat eine starke Wirtschaft.\n",
      "- Kannst du mir bitte helfen?\n"
     ]
    }
   ],
   "source": [
    "lines = read_text_file(INPUT_FILE)\n",
    "print(\"Orignal DE Texts:\\n\")\n",
    "for line in lines[:5]:\n",
    "    print(\"-\", line)"
   ]
  },
  {
   "cell_type": "markdown",
   "id": "babbca1c",
   "metadata": {},
   "source": [
    "### Preprocess Sample Text"
   ]
  },
  {
   "cell_type": "code",
   "execution_count": 32,
   "id": "7cda6f00",
   "metadata": {},
   "outputs": [
    {
     "name": "stdout",
     "output_type": "stream",
     "text": [
      "Selected Text: Ich trinke lieber Tee als Kaffee.\n"
     ]
    }
   ],
   "source": [
    "rand_ind = random.randint(0, len(lines) - 1)\n",
    "# Pick a line\n",
    "text = lines[rand_ind]\n",
    "print(f\"Selected Text: {text}\")"
   ]
  },
  {
   "cell_type": "code",
   "execution_count": 33,
   "id": "4d9934d3",
   "metadata": {},
   "outputs": [
    {
     "name": "stdout",
     "output_type": "stream",
     "text": [
      "Cleaned Text: ich trinke lieber tee als kaffee\n"
     ]
    }
   ],
   "source": [
    "# Clean text\n",
    "cleaned = clean_text(text)\n",
    "print(f\"Cleaned Text: {cleaned}\")"
   ]
  },
  {
   "cell_type": "code",
   "execution_count": 34,
   "id": "6e3fe728",
   "metadata": {},
   "outputs": [
    {
     "name": "stdout",
     "output_type": "stream",
     "text": [
      "Tokens: ['ich', 'trinke', 'lieber', 'tee', 'als', 'kaffee']\n"
     ]
    }
   ],
   "source": [
    "# Tokenize text\n",
    "tokens = tokenize_text(cleaned)\n",
    "print(f\"Tokens: {tokens}\")"
   ]
  },
  {
   "cell_type": "code",
   "execution_count": 35,
   "id": "d833e3eb",
   "metadata": {},
   "outputs": [
    {
     "name": "stdout",
     "output_type": "stream",
     "text": [
      "Filtered Tokens: ['trinke', 'lieber', 'tee', 'kaffee']\n"
     ]
    }
   ],
   "source": [
    "# Remove stopwords\n",
    "filtered_tokens = remove_stopwords(tokens)\n",
    "print(f\"Filtered Tokens: {filtered_tokens}\")"
   ]
  },
  {
   "cell_type": "code",
   "execution_count": 36,
   "id": "b196d9ee",
   "metadata": {},
   "outputs": [
    {
     "name": "stdout",
     "output_type": "stream",
     "text": [
      "Lemmas: ['trinken', 'lieber', 'Tee', 'Kaffee']\n"
     ]
    }
   ],
   "source": [
    "lemmas = lemmatize_tokens(filtered_tokens)\n",
    "print(f\"Lemmas: {lemmas}\")"
   ]
  },
  {
   "cell_type": "markdown",
   "id": "f61ee3ba",
   "metadata": {},
   "source": [
    "### Process and  Store Entire File"
   ]
  },
  {
   "cell_type": "code",
   "execution_count": 37,
   "id": "798226ca",
   "metadata": {},
   "outputs": [
    {
     "name": "stdout",
     "output_type": "stream",
     "text": [
      "Original: Das ist ein sehr interessantes Buch.\n",
      "Cleaned: das ist ein sehr interessantes buch\n",
      "Tokens: ['interessantes', 'buch']\n",
      "Lemmas: ['interessant', 'Buch']\n",
      "----------------------------------------\n",
      "Original: Ich gehe morgen ins Kino.\n",
      "Cleaned: ich gehe morgen ins kino\n",
      "Tokens: ['gehe', 'morgen', 'kino']\n",
      "Lemmas: ['gehen', 'morgen', 'Kino']\n",
      "----------------------------------------\n",
      "Original: Wir haben gestern Fußball gespielt.\n",
      "Cleaned: wir haben gestern fußball gespielt\n",
      "Tokens: ['gestern', 'fußball', 'gespielt']\n",
      "Lemmas: ['gestern', 'fußball', 'spielen']\n",
      "----------------------------------------\n",
      "Original: Deutschland hat eine starke Wirtschaft.\n",
      "Cleaned: deutschland hat eine starke wirtschaft\n",
      "Tokens: ['deutschland', 'starke', 'wirtschaft']\n",
      "Lemmas: ['Deutschland', 'stark', 'Wirtschaft']\n",
      "----------------------------------------\n",
      "Original: Kannst du mir bitte helfen?\n",
      "Cleaned: kannst du mir bitte helfen\n",
      "Tokens: ['kannst', 'bitte', 'helfen']\n",
      "Lemmas: ['Kannst', 'bitte', 'helfen']\n",
      "----------------------------------------\n",
      "Processed File Stored in: ..\\data\\processed_results_de.db\n"
     ]
    }
   ],
   "source": [
    "process_file(str(INPUT_FILE))\n",
    "print(f\"Processed File Stored in: {DB_FILE}\")"
   ]
  },
  {
   "cell_type": "markdown",
   "id": "bbc053f9",
   "metadata": {},
   "source": [
    "### Inspect DB Results"
   ]
  },
  {
   "cell_type": "code",
   "execution_count": 38,
   "id": "00e1057a",
   "metadata": {},
   "outputs": [
    {
     "data": {
      "text/html": [
       "<div>\n",
       "<style scoped>\n",
       "    .dataframe tbody tr th:only-of-type {\n",
       "        vertical-align: middle;\n",
       "    }\n",
       "\n",
       "    .dataframe tbody tr th {\n",
       "        vertical-align: top;\n",
       "    }\n",
       "\n",
       "    .dataframe thead th {\n",
       "        text-align: right;\n",
       "    }\n",
       "</style>\n",
       "<table border=\"1\" class=\"dataframe\">\n",
       "  <thead>\n",
       "    <tr style=\"text-align: right;\">\n",
       "      <th></th>\n",
       "      <th>id</th>\n",
       "      <th>original_text</th>\n",
       "      <th>cleaned_text</th>\n",
       "      <th>tokens</th>\n",
       "      <th>lemmas</th>\n",
       "    </tr>\n",
       "  </thead>\n",
       "  <tbody>\n",
       "    <tr>\n",
       "      <th>0</th>\n",
       "      <td>1</td>\n",
       "      <td>Das ist ein sehr interessantes Buch.</td>\n",
       "      <td>das ist ein sehr interessantes buch</td>\n",
       "      <td>interessantes buch</td>\n",
       "      <td>interessant Buch</td>\n",
       "    </tr>\n",
       "    <tr>\n",
       "      <th>1</th>\n",
       "      <td>2</td>\n",
       "      <td>Ich gehe morgen ins Kino.</td>\n",
       "      <td>ich gehe morgen ins kino</td>\n",
       "      <td>gehe morgen kino</td>\n",
       "      <td>gehen morgen Kino</td>\n",
       "    </tr>\n",
       "    <tr>\n",
       "      <th>2</th>\n",
       "      <td>3</td>\n",
       "      <td>Wir haben gestern Fußball gespielt.</td>\n",
       "      <td>wir haben gestern fußball gespielt</td>\n",
       "      <td>gestern fußball gespielt</td>\n",
       "      <td>gestern fußball spielen</td>\n",
       "    </tr>\n",
       "    <tr>\n",
       "      <th>3</th>\n",
       "      <td>4</td>\n",
       "      <td>Deutschland hat eine starke Wirtschaft.</td>\n",
       "      <td>deutschland hat eine starke wirtschaft</td>\n",
       "      <td>deutschland starke wirtschaft</td>\n",
       "      <td>Deutschland stark Wirtschaft</td>\n",
       "    </tr>\n",
       "    <tr>\n",
       "      <th>4</th>\n",
       "      <td>5</td>\n",
       "      <td>Kannst du mir bitte helfen?</td>\n",
       "      <td>kannst du mir bitte helfen</td>\n",
       "      <td>kannst bitte helfen</td>\n",
       "      <td>Kannst bitte helfen</td>\n",
       "    </tr>\n",
       "    <tr>\n",
       "      <th>5</th>\n",
       "      <td>6</td>\n",
       "      <td>Die Sonne scheint heute besonders hell.</td>\n",
       "      <td>die sonne scheint heute besonders hell</td>\n",
       "      <td>sonne scheint heute besonders hell</td>\n",
       "      <td>Sonne scheinen heute besonders hell</td>\n",
       "    </tr>\n",
       "    <tr>\n",
       "      <th>6</th>\n",
       "      <td>7</td>\n",
       "      <td>Angela Merkel war Bundeskanzlerin.</td>\n",
       "      <td>angela merkel war bundeskanzlerin</td>\n",
       "      <td>angela merkel bundeskanzlerin</td>\n",
       "      <td>Angela Merkel Bundeskanzlerin</td>\n",
       "    </tr>\n",
       "    <tr>\n",
       "      <th>7</th>\n",
       "      <td>8</td>\n",
       "      <td>Ich habe keine Zeit, weil ich lernen muss.</td>\n",
       "      <td>ich habe keine zeit weil ich lernen muss</td>\n",
       "      <td>zeit lernen</td>\n",
       "      <td>Zeit lernen</td>\n",
       "    </tr>\n",
       "    <tr>\n",
       "      <th>8</th>\n",
       "      <td>9</td>\n",
       "      <td>„Wo bist du?“ fragte er laut.</td>\n",
       "      <td>wo bist du fragte er laut</td>\n",
       "      <td>fragte laut</td>\n",
       "      <td>fragen laut</td>\n",
       "    </tr>\n",
       "    <tr>\n",
       "      <th>9</th>\n",
       "      <td>10</td>\n",
       "      <td>Viele Leute benutzen das Internet täglich.</td>\n",
       "      <td>viele leute benutzen das internet täglich</td>\n",
       "      <td>viele leute benutzen internet täglich</td>\n",
       "      <td>vieler Leute benutzen Internet täglich</td>\n",
       "    </tr>\n",
       "  </tbody>\n",
       "</table>\n",
       "</div>"
      ],
      "text/plain": [
       "   id                               original_text  \\\n",
       "0   1        Das ist ein sehr interessantes Buch.   \n",
       "1   2                   Ich gehe morgen ins Kino.   \n",
       "2   3         Wir haben gestern Fußball gespielt.   \n",
       "3   4     Deutschland hat eine starke Wirtschaft.   \n",
       "4   5                 Kannst du mir bitte helfen?   \n",
       "5   6     Die Sonne scheint heute besonders hell.   \n",
       "6   7          Angela Merkel war Bundeskanzlerin.   \n",
       "7   8  Ich habe keine Zeit, weil ich lernen muss.   \n",
       "8   9               „Wo bist du?“ fragte er laut.   \n",
       "9  10  Viele Leute benutzen das Internet täglich.   \n",
       "\n",
       "                                cleaned_text  \\\n",
       "0        das ist ein sehr interessantes buch   \n",
       "1                   ich gehe morgen ins kino   \n",
       "2         wir haben gestern fußball gespielt   \n",
       "3     deutschland hat eine starke wirtschaft   \n",
       "4                 kannst du mir bitte helfen   \n",
       "5     die sonne scheint heute besonders hell   \n",
       "6          angela merkel war bundeskanzlerin   \n",
       "7   ich habe keine zeit weil ich lernen muss   \n",
       "8                  wo bist du fragte er laut   \n",
       "9  viele leute benutzen das internet täglich   \n",
       "\n",
       "                                  tokens  \\\n",
       "0                     interessantes buch   \n",
       "1                       gehe morgen kino   \n",
       "2               gestern fußball gespielt   \n",
       "3          deutschland starke wirtschaft   \n",
       "4                    kannst bitte helfen   \n",
       "5     sonne scheint heute besonders hell   \n",
       "6          angela merkel bundeskanzlerin   \n",
       "7                            zeit lernen   \n",
       "8                            fragte laut   \n",
       "9  viele leute benutzen internet täglich   \n",
       "\n",
       "                                   lemmas  \n",
       "0                        interessant Buch  \n",
       "1                       gehen morgen Kino  \n",
       "2                 gestern fußball spielen  \n",
       "3            Deutschland stark Wirtschaft  \n",
       "4                     Kannst bitte helfen  \n",
       "5     Sonne scheinen heute besonders hell  \n",
       "6           Angela Merkel Bundeskanzlerin  \n",
       "7                             Zeit lernen  \n",
       "8                             fragen laut  \n",
       "9  vieler Leute benutzen Internet täglich  "
      ]
     },
     "execution_count": 38,
     "metadata": {},
     "output_type": "execute_result"
    }
   ],
   "source": [
    "# Connect and load data\n",
    "conn = sqlite3.connect(DB_FILE)\n",
    "df = pd.read_sql_query(\"SELECT * FROM processed_de LIMIT 10;\", conn)\n",
    "conn.close()\n",
    "\n",
    "df"
   ]
  },
  {
   "cell_type": "markdown",
   "id": "af374225",
   "metadata": {},
   "source": [
    "### Visualize Token Count"
   ]
  },
  {
   "cell_type": "code",
   "execution_count": 39,
   "id": "53f4256b",
   "metadata": {},
   "outputs": [
    {
     "data": {
      "text/html": [
       "<div>\n",
       "<style scoped>\n",
       "    .dataframe tbody tr th:only-of-type {\n",
       "        vertical-align: middle;\n",
       "    }\n",
       "\n",
       "    .dataframe tbody tr th {\n",
       "        vertical-align: top;\n",
       "    }\n",
       "\n",
       "    .dataframe thead th {\n",
       "        text-align: right;\n",
       "    }\n",
       "</style>\n",
       "<table border=\"1\" class=\"dataframe\">\n",
       "  <thead>\n",
       "    <tr style=\"text-align: right;\">\n",
       "      <th></th>\n",
       "      <th>original_text</th>\n",
       "      <th>token_count</th>\n",
       "    </tr>\n",
       "  </thead>\n",
       "  <tbody>\n",
       "    <tr>\n",
       "      <th>0</th>\n",
       "      <td>Das ist ein sehr interessantes Buch.</td>\n",
       "      <td>2</td>\n",
       "    </tr>\n",
       "    <tr>\n",
       "      <th>1</th>\n",
       "      <td>Ich gehe morgen ins Kino.</td>\n",
       "      <td>3</td>\n",
       "    </tr>\n",
       "    <tr>\n",
       "      <th>2</th>\n",
       "      <td>Wir haben gestern Fußball gespielt.</td>\n",
       "      <td>3</td>\n",
       "    </tr>\n",
       "    <tr>\n",
       "      <th>3</th>\n",
       "      <td>Deutschland hat eine starke Wirtschaft.</td>\n",
       "      <td>3</td>\n",
       "    </tr>\n",
       "    <tr>\n",
       "      <th>4</th>\n",
       "      <td>Kannst du mir bitte helfen?</td>\n",
       "      <td>3</td>\n",
       "    </tr>\n",
       "    <tr>\n",
       "      <th>5</th>\n",
       "      <td>Die Sonne scheint heute besonders hell.</td>\n",
       "      <td>5</td>\n",
       "    </tr>\n",
       "    <tr>\n",
       "      <th>6</th>\n",
       "      <td>Angela Merkel war Bundeskanzlerin.</td>\n",
       "      <td>3</td>\n",
       "    </tr>\n",
       "    <tr>\n",
       "      <th>7</th>\n",
       "      <td>Ich habe keine Zeit, weil ich lernen muss.</td>\n",
       "      <td>2</td>\n",
       "    </tr>\n",
       "    <tr>\n",
       "      <th>8</th>\n",
       "      <td>„Wo bist du?“ fragte er laut.</td>\n",
       "      <td>2</td>\n",
       "    </tr>\n",
       "    <tr>\n",
       "      <th>9</th>\n",
       "      <td>Viele Leute benutzen das Internet täglich.</td>\n",
       "      <td>5</td>\n",
       "    </tr>\n",
       "  </tbody>\n",
       "</table>\n",
       "</div>"
      ],
      "text/plain": [
       "                                original_text  token_count\n",
       "0        Das ist ein sehr interessantes Buch.            2\n",
       "1                   Ich gehe morgen ins Kino.            3\n",
       "2         Wir haben gestern Fußball gespielt.            3\n",
       "3     Deutschland hat eine starke Wirtschaft.            3\n",
       "4                 Kannst du mir bitte helfen?            3\n",
       "5     Die Sonne scheint heute besonders hell.            5\n",
       "6          Angela Merkel war Bundeskanzlerin.            3\n",
       "7  Ich habe keine Zeit, weil ich lernen muss.            2\n",
       "8               „Wo bist du?“ fragte er laut.            2\n",
       "9  Viele Leute benutzen das Internet täglich.            5"
      ]
     },
     "execution_count": 39,
     "metadata": {},
     "output_type": "execute_result"
    }
   ],
   "source": [
    "# Simple Analysis\n",
    "df[\"token_count\"] = df[\"tokens\"].apply(lambda x: len(x.split()))\n",
    "df[[\"original_text\", \"token_count\"]]"
   ]
  }
 ],
 "metadata": {
  "kernelspec": {
   "display_name": "Python 3",
   "language": "python",
   "name": "python3"
  },
  "language_info": {
   "codemirror_mode": {
    "name": "ipython",
    "version": 3
   },
   "file_extension": ".py",
   "mimetype": "text/x-python",
   "name": "python",
   "nbconvert_exporter": "python",
   "pygments_lexer": "ipython3",
   "version": "3.13.3"
  }
 },
 "nbformat": 4,
 "nbformat_minor": 5
}
