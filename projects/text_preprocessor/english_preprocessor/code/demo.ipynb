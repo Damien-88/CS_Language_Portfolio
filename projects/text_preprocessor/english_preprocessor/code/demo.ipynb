{
 "cells": [
  {
   "cell_type": "markdown",
   "id": "8d797cb0",
   "metadata": {},
   "source": [
    "# English Text Preprocessor Demo"
   ]
  },
  {
   "cell_type": "markdown",
   "id": "ba4e4190",
   "metadata": {},
   "source": [
    "### Environment Setup"
   ]
  },
  {
   "cell_type": "code",
   "execution_count": 1,
   "id": "f86a2fa5",
   "metadata": {},
   "outputs": [],
   "source": [
    "import sys\n",
    "from pathlib import Path\n",
    "\n",
    "# Path to the root directory of the project\n",
    "sys.path.append(str(Path(\".../code\").resolve()))\n",
    "\n",
    "from preprocess_en import (\n",
    "    clean_text, \n",
    "    tokenize_text,\n",
    "    merge_contractions, \n",
    "    remove_stopwords, \n",
    "    lemmatize_tokens, \n",
    "    process_file\n",
    ")\n",
    "from utils import read_text_file, write_text_file\n",
    "import sqlite3\n",
    "import pandas as pd\n",
    "\n",
    "# File paths\n",
    "DATA_DIR = Path(\"../data\")\n",
    "INPUT_FILE = DATA_DIR / \"sample_en.txt\"\n",
    "DB_FILE = DATA_DIR / \"processed_results.db\""
   ]
  },
  {
   "cell_type": "markdown",
   "id": "54a2ced4",
   "metadata": {},
   "source": [
    "### Preview Sample Text"
   ]
  },
  {
   "cell_type": "code",
   "execution_count": 2,
   "id": "deaed68e",
   "metadata": {},
   "outputs": [
    {
     "name": "stdout",
     "output_type": "stream",
     "text": [
      "Orignal Texts:\n",
      "\n",
      "- Artificial intelligence is transforming the world rapidly!\n",
      "- NASA's new rover landed on Mars in 2021.\n",
      "- @user I totally disagree — that's not the point. http://example.com\n",
      "- Big data and ML are changing industries.\n",
      "- Python, Java, and C++ are popular programming languages.\n"
     ]
    }
   ],
   "source": [
    "lines = read_text_file(INPUT_FILE)\n",
    "print(\"Orignal Texts:\\n\")\n",
    "for line in lines[:5]:\n",
    "    print(\"-\", line)"
   ]
  },
  {
   "cell_type": "markdown",
   "id": "babbca1c",
   "metadata": {},
   "source": [
    "### Preprocess Sample Text"
   ]
  },
  {
   "cell_type": "code",
   "execution_count": 3,
   "id": "7cda6f00",
   "metadata": {},
   "outputs": [
    {
     "name": "stdout",
     "output_type": "stream",
     "text": [
      "Selected Text: @user I totally disagree — that's not the point. http://example.com\n"
     ]
    }
   ],
   "source": [
    "# Pick a line\n",
    "text = lines[2]\n",
    "print(f\"Selected Text: {text}\")"
   ]
  },
  {
   "cell_type": "code",
   "execution_count": 4,
   "id": "4d9934d3",
   "metadata": {},
   "outputs": [
    {
     "name": "stdout",
     "output_type": "stream",
     "text": [
      "Cleaned Text: i totally disagree that s not the point\n"
     ]
    }
   ],
   "source": [
    "# Clean text\n",
    "cleaned = clean_text(text)\n",
    "print(f\"Cleaned Text: {cleaned}\")"
   ]
  },
  {
   "cell_type": "code",
   "execution_count": 5,
   "id": "6e3fe728",
   "metadata": {},
   "outputs": [
    {
     "name": "stdout",
     "output_type": "stream",
     "text": [
      "Tokens: ['i', 'totally', 'disagree', 'that', 's', 'not', 'the', 'point']\n"
     ]
    }
   ],
   "source": [
    "# Tokenize text\n",
    "tokens = tokenize_text(cleaned)\n",
    "print(f\"Tokens: {tokens}\")"
   ]
  },
  {
   "cell_type": "code",
   "execution_count": 6,
   "id": "d833e3eb",
   "metadata": {},
   "outputs": [
    {
     "name": "stdout",
     "output_type": "stream",
     "text": [
      "Filtered Tokens: ['totally', 'disagree', 'point']\n"
     ]
    }
   ],
   "source": [
    "# Remove stopwords\n",
    "filtered_tokens = remove_stopwords(tokens)\n",
    "print(f\"Filtered Tokens: {filtered_tokens}\")"
   ]
  },
  {
   "cell_type": "code",
   "execution_count": 7,
   "id": "b196d9ee",
   "metadata": {},
   "outputs": [
    {
     "name": "stdout",
     "output_type": "stream",
     "text": [
      "Lemmas: ['totally', 'disagree', 'point']\n"
     ]
    }
   ],
   "source": [
    "lemmas = lemmatize_tokens(filtered_tokens)\n",
    "print(f\"Lemmas: {lemmas}\")"
   ]
  },
  {
   "cell_type": "markdown",
   "id": "f61ee3ba",
   "metadata": {},
   "source": [
    "### Process and  Store Entire File"
   ]
  },
  {
   "cell_type": "code",
   "execution_count": 8,
   "id": "798226ca",
   "metadata": {},
   "outputs": [
    {
     "name": "stdout",
     "output_type": "stream",
     "text": [
      "Original: Artificial intelligence is transforming the world rapidly!\n",
      "Cleaned: artificial intelligence is transforming the world rapidly\n",
      "Tokens: ['artificial', 'intelligence', 'transforming', 'world', 'rapidly']\n",
      "Lemmas: ['artificial', 'intelligence', 'transform', 'world', 'rapidly']\n",
      "----------------------------------------\n",
      "Original: NASA's new rover landed on Mars in 2021.\n",
      "Cleaned: nasa s new rover landed on mars in 2021\n",
      "Tokens: ['nasa', 'new', 'rover', 'landed', 'mars', '2021']\n",
      "Lemmas: ['nasa', 'new', 'rover', 'land', 'mar', '2021']\n",
      "----------------------------------------\n",
      "Original: @user I totally disagree — that's not the point. http://example.com\n",
      "Cleaned: i totally disagree that s not the point\n",
      "Tokens: ['totally', 'disagree', 'point']\n",
      "Lemmas: ['totally', 'disagree', 'point']\n",
      "----------------------------------------\n",
      "Original: Big data and ML are changing industries.\n",
      "Cleaned: big data and ml are changing industries\n",
      "Tokens: ['big', 'data', 'ml', 'changing', 'industries']\n",
      "Lemmas: ['big', 'datum', 'ml', 'change', 'industry']\n",
      "----------------------------------------\n",
      "Original: Python, Java, and C++ are popular programming languages.\n",
      "Cleaned: python java and c are popular programming languages\n",
      "Tokens: ['python', 'java', 'c', 'popular', 'programming', 'languages']\n",
      "Lemmas: ['python', 'java', 'c', 'popular', 'programming', 'language']\n",
      "----------------------------------------\n",
      "Processed File Stored in: ..\\data\\processed_results.db\n"
     ]
    }
   ],
   "source": [
    "process_file(str(INPUT_FILE))\n",
    "print(f\"Processed File Stored in: {DB_FILE}\")"
   ]
  },
  {
   "cell_type": "markdown",
   "id": "bbc053f9",
   "metadata": {},
   "source": [
    "### Inspect DB Results"
   ]
  },
  {
   "cell_type": "code",
   "execution_count": 12,
   "id": "00e1057a",
   "metadata": {},
   "outputs": [
    {
     "data": {
      "text/html": [
       "<div>\n",
       "<style scoped>\n",
       "    .dataframe tbody tr th:only-of-type {\n",
       "        vertical-align: middle;\n",
       "    }\n",
       "\n",
       "    .dataframe tbody tr th {\n",
       "        vertical-align: top;\n",
       "    }\n",
       "\n",
       "    .dataframe thead th {\n",
       "        text-align: right;\n",
       "    }\n",
       "</style>\n",
       "<table border=\"1\" class=\"dataframe\">\n",
       "  <thead>\n",
       "    <tr style=\"text-align: right;\">\n",
       "      <th></th>\n",
       "      <th>id</th>\n",
       "      <th>original_text</th>\n",
       "      <th>cleaned_text</th>\n",
       "      <th>tokens</th>\n",
       "      <th>lemmas</th>\n",
       "    </tr>\n",
       "  </thead>\n",
       "  <tbody>\n",
       "    <tr>\n",
       "      <th>0</th>\n",
       "      <td>1</td>\n",
       "      <td>Artificial intelligence is transforming the wo...</td>\n",
       "      <td>artificial intelligence is transforming the wo...</td>\n",
       "      <td>artificial intelligence transforming world rap...</td>\n",
       "      <td>artificial intelligence transform world rapidly</td>\n",
       "    </tr>\n",
       "    <tr>\n",
       "      <th>1</th>\n",
       "      <td>2</td>\n",
       "      <td>NASA's new rover landed on Mars in 2021.</td>\n",
       "      <td>nasa s new rover landed on mars in 2021</td>\n",
       "      <td>nasa new rover landed mars 2021</td>\n",
       "      <td>nasa new rover land mar 2021</td>\n",
       "    </tr>\n",
       "    <tr>\n",
       "      <th>2</th>\n",
       "      <td>3</td>\n",
       "      <td>@user I totally disagree — that's not the poin...</td>\n",
       "      <td>i totally disagree that s not the point</td>\n",
       "      <td>totally disagree point</td>\n",
       "      <td>totally disagree point</td>\n",
       "    </tr>\n",
       "    <tr>\n",
       "      <th>3</th>\n",
       "      <td>4</td>\n",
       "      <td>Big data and ML are changing industries.</td>\n",
       "      <td>big data and ml are changing industries</td>\n",
       "      <td>big data ml changing industries</td>\n",
       "      <td>big datum ml change industry</td>\n",
       "    </tr>\n",
       "    <tr>\n",
       "      <th>4</th>\n",
       "      <td>5</td>\n",
       "      <td>Python, Java, and C++ are popular programming ...</td>\n",
       "      <td>python java and c are popular programming lang...</td>\n",
       "      <td>python java c popular programming languages</td>\n",
       "      <td>python java c popular programming language</td>\n",
       "    </tr>\n",
       "    <tr>\n",
       "      <th>5</th>\n",
       "      <td>6</td>\n",
       "      <td>The quick brown fox jumps over the lazy dog.</td>\n",
       "      <td>the quick brown fox jumps over the lazy dog</td>\n",
       "      <td>quick brown fox jumps lazy dog</td>\n",
       "      <td>quick brown fox jump lazy dog</td>\n",
       "    </tr>\n",
       "    <tr>\n",
       "      <th>6</th>\n",
       "      <td>7</td>\n",
       "      <td>COVID-19 vaccines are effective and widely dis...</td>\n",
       "      <td>covid 19 vaccines are effective and widely dis...</td>\n",
       "      <td>covid 19 vaccines effective widely distributed</td>\n",
       "      <td>covid 19 vaccine effective widely distribute</td>\n",
       "    </tr>\n",
       "    <tr>\n",
       "      <th>7</th>\n",
       "      <td>8</td>\n",
       "      <td>“Hello world!” is the classic first program fo...</td>\n",
       "      <td>hello world is the classic first program for b...</td>\n",
       "      <td>hello world classic first program beginners</td>\n",
       "      <td>hello world classic first program beginner</td>\n",
       "    </tr>\n",
       "    <tr>\n",
       "      <th>8</th>\n",
       "      <td>9</td>\n",
       "      <td>Check out this link: https://www.example.org</td>\n",
       "      <td>check out this link</td>\n",
       "      <td>check link</td>\n",
       "      <td>check link</td>\n",
       "    </tr>\n",
       "    <tr>\n",
       "      <th>9</th>\n",
       "      <td>10</td>\n",
       "      <td>Email me at john.doe@example.com for details.</td>\n",
       "      <td>email me at john doe com for details</td>\n",
       "      <td>email john doe com details</td>\n",
       "      <td>email john doe com detail</td>\n",
       "    </tr>\n",
       "  </tbody>\n",
       "</table>\n",
       "</div>"
      ],
      "text/plain": [
       "   id                                      original_text  \\\n",
       "0   1  Artificial intelligence is transforming the wo...   \n",
       "1   2           NASA's new rover landed on Mars in 2021.   \n",
       "2   3  @user I totally disagree — that's not the poin...   \n",
       "3   4           Big data and ML are changing industries.   \n",
       "4   5  Python, Java, and C++ are popular programming ...   \n",
       "5   6       The quick brown fox jumps over the lazy dog.   \n",
       "6   7  COVID-19 vaccines are effective and widely dis...   \n",
       "7   8  “Hello world!” is the classic first program fo...   \n",
       "8   9       Check out this link: https://www.example.org   \n",
       "9  10      Email me at john.doe@example.com for details.   \n",
       "\n",
       "                                        cleaned_text  \\\n",
       "0  artificial intelligence is transforming the wo...   \n",
       "1            nasa s new rover landed on mars in 2021   \n",
       "2            i totally disagree that s not the point   \n",
       "3            big data and ml are changing industries   \n",
       "4  python java and c are popular programming lang...   \n",
       "5        the quick brown fox jumps over the lazy dog   \n",
       "6  covid 19 vaccines are effective and widely dis...   \n",
       "7  hello world is the classic first program for b...   \n",
       "8                                check out this link   \n",
       "9               email me at john doe com for details   \n",
       "\n",
       "                                              tokens  \\\n",
       "0  artificial intelligence transforming world rap...   \n",
       "1                    nasa new rover landed mars 2021   \n",
       "2                             totally disagree point   \n",
       "3                    big data ml changing industries   \n",
       "4        python java c popular programming languages   \n",
       "5                     quick brown fox jumps lazy dog   \n",
       "6     covid 19 vaccines effective widely distributed   \n",
       "7        hello world classic first program beginners   \n",
       "8                                         check link   \n",
       "9                         email john doe com details   \n",
       "\n",
       "                                            lemmas  \n",
       "0  artificial intelligence transform world rapidly  \n",
       "1                     nasa new rover land mar 2021  \n",
       "2                           totally disagree point  \n",
       "3                     big datum ml change industry  \n",
       "4       python java c popular programming language  \n",
       "5                    quick brown fox jump lazy dog  \n",
       "6     covid 19 vaccine effective widely distribute  \n",
       "7       hello world classic first program beginner  \n",
       "8                                       check link  \n",
       "9                        email john doe com detail  "
      ]
     },
     "execution_count": 12,
     "metadata": {},
     "output_type": "execute_result"
    }
   ],
   "source": [
    "# Connect and load data\n",
    "conn = sqlite3.connect(DB_FILE)\n",
    "df = pd.read_sql_query(\"SELECT * FROM processed LIMIT 10;\", conn)\n",
    "conn.close()\n",
    "\n",
    "df"
   ]
  },
  {
   "cell_type": "markdown",
   "id": "af374225",
   "metadata": {},
   "source": [
    "### Visualize Token Count"
   ]
  },
  {
   "cell_type": "code",
   "execution_count": 13,
   "id": "53f4256b",
   "metadata": {},
   "outputs": [
    {
     "data": {
      "text/html": [
       "<div>\n",
       "<style scoped>\n",
       "    .dataframe tbody tr th:only-of-type {\n",
       "        vertical-align: middle;\n",
       "    }\n",
       "\n",
       "    .dataframe tbody tr th {\n",
       "        vertical-align: top;\n",
       "    }\n",
       "\n",
       "    .dataframe thead th {\n",
       "        text-align: right;\n",
       "    }\n",
       "</style>\n",
       "<table border=\"1\" class=\"dataframe\">\n",
       "  <thead>\n",
       "    <tr style=\"text-align: right;\">\n",
       "      <th></th>\n",
       "      <th>original_text</th>\n",
       "      <th>token_count</th>\n",
       "    </tr>\n",
       "  </thead>\n",
       "  <tbody>\n",
       "    <tr>\n",
       "      <th>0</th>\n",
       "      <td>Artificial intelligence is transforming the wo...</td>\n",
       "      <td>5</td>\n",
       "    </tr>\n",
       "    <tr>\n",
       "      <th>1</th>\n",
       "      <td>NASA's new rover landed on Mars in 2021.</td>\n",
       "      <td>6</td>\n",
       "    </tr>\n",
       "    <tr>\n",
       "      <th>2</th>\n",
       "      <td>@user I totally disagree — that's not the poin...</td>\n",
       "      <td>3</td>\n",
       "    </tr>\n",
       "    <tr>\n",
       "      <th>3</th>\n",
       "      <td>Big data and ML are changing industries.</td>\n",
       "      <td>5</td>\n",
       "    </tr>\n",
       "    <tr>\n",
       "      <th>4</th>\n",
       "      <td>Python, Java, and C++ are popular programming ...</td>\n",
       "      <td>6</td>\n",
       "    </tr>\n",
       "    <tr>\n",
       "      <th>5</th>\n",
       "      <td>The quick brown fox jumps over the lazy dog.</td>\n",
       "      <td>6</td>\n",
       "    </tr>\n",
       "    <tr>\n",
       "      <th>6</th>\n",
       "      <td>COVID-19 vaccines are effective and widely dis...</td>\n",
       "      <td>6</td>\n",
       "    </tr>\n",
       "    <tr>\n",
       "      <th>7</th>\n",
       "      <td>“Hello world!” is the classic first program fo...</td>\n",
       "      <td>6</td>\n",
       "    </tr>\n",
       "    <tr>\n",
       "      <th>8</th>\n",
       "      <td>Check out this link: https://www.example.org</td>\n",
       "      <td>2</td>\n",
       "    </tr>\n",
       "    <tr>\n",
       "      <th>9</th>\n",
       "      <td>Email me at john.doe@example.com for details.</td>\n",
       "      <td>5</td>\n",
       "    </tr>\n",
       "  </tbody>\n",
       "</table>\n",
       "</div>"
      ],
      "text/plain": [
       "                                       original_text  token_count\n",
       "0  Artificial intelligence is transforming the wo...            5\n",
       "1           NASA's new rover landed on Mars in 2021.            6\n",
       "2  @user I totally disagree — that's not the poin...            3\n",
       "3           Big data and ML are changing industries.            5\n",
       "4  Python, Java, and C++ are popular programming ...            6\n",
       "5       The quick brown fox jumps over the lazy dog.            6\n",
       "6  COVID-19 vaccines are effective and widely dis...            6\n",
       "7  “Hello world!” is the classic first program fo...            6\n",
       "8       Check out this link: https://www.example.org            2\n",
       "9      Email me at john.doe@example.com for details.            5"
      ]
     },
     "execution_count": 13,
     "metadata": {},
     "output_type": "execute_result"
    }
   ],
   "source": [
    "# Simple Analysis\n",
    "df[\"token_count\"] = df[\"tokens\"].apply(lambda x: len(x.split()))\n",
    "df[[\"original_text\", \"token_count\"]]"
   ]
  }
 ],
 "metadata": {
  "kernelspec": {
   "display_name": "Python 3",
   "language": "python",
   "name": "python3"
  },
  "language_info": {
   "codemirror_mode": {
    "name": "ipython",
    "version": 3
   },
   "file_extension": ".py",
   "mimetype": "text/x-python",
   "name": "python",
   "nbconvert_exporter": "python",
   "pygments_lexer": "ipython3",
   "version": "3.13.3"
  }
 },
 "nbformat": 4,
 "nbformat_minor": 5
}
