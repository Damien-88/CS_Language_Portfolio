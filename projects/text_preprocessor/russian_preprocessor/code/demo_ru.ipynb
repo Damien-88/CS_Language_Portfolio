{
 "cells": [
  {
   "cell_type": "markdown",
   "id": "8d797cb0",
   "metadata": {},
   "source": [
    "# Russian Text Preprocessor Demo"
   ]
  },
  {
   "cell_type": "markdown",
   "id": "ba4e4190",
   "metadata": {},
   "source": [
    "### Environment Setup"
   ]
  },
  {
   "cell_type": "code",
   "execution_count": 1,
   "id": "f86a2fa5",
   "metadata": {},
   "outputs": [],
   "source": [
    "import sys\n",
    "from pathlib import Path\n",
    "import random\n",
    "\n",
    "# Path to the root directory of the project\n",
    "sys.path.append(str(Path(\".../code\").resolve()))\n",
    "\n",
    "# Import custom preprocessing and utility functions\n",
    "from preprocess_ru import (\n",
    "    clean_text, \n",
    "    tokenize_text, \n",
    "    remove_stopwords, \n",
    "    lemmatize_tokens, \n",
    "    process_file\n",
    ")\n",
    "from utils_ru import read_text_file, write_text_file\n",
    "\n",
    "# Import database operation libraries\n",
    "import sqlite3\n",
    "import pandas as pd\n",
    "\n",
    "# File paths\n",
    "DATA_DIR = Path(\"../data\")\n",
    "INPUT_FILE = DATA_DIR / \"sample_ru.txt\"\n",
    "DB_FILE = DATA_DIR / \"processed_results_ru.db\""
   ]
  },
  {
   "cell_type": "markdown",
   "id": "54a2ced4",
   "metadata": {},
   "source": [
    "### Preview Sample Text"
   ]
  },
  {
   "cell_type": "code",
   "execution_count": 2,
   "id": "deaed68e",
   "metadata": {},
   "outputs": [
    {
     "name": "stdout",
     "output_type": "stream",
     "text": [
      "Orignal RU Texts:\n",
      "\n",
      "- Привет, как дела?\n",
      "- Сегодня хорошая погода.\n",
      "- Я люблю изучать русский язык.\n",
      "- Москва — столица России.\n",
      "- Он не пришёл на встречу.\n"
     ]
    }
   ],
   "source": [
    "lines = read_text_file(INPUT_FILE)\n",
    "print(\"Orignal RU Texts:\\n\")\n",
    "for line in lines[:5]:\n",
    "    print(\"-\", line)"
   ]
  },
  {
   "cell_type": "markdown",
   "id": "babbca1c",
   "metadata": {},
   "source": [
    "### Preprocess Sample Text"
   ]
  },
  {
   "cell_type": "code",
   "execution_count": 3,
   "id": "7cda6f00",
   "metadata": {},
   "outputs": [
    {
     "name": "stdout",
     "output_type": "stream",
     "text": [
      "Selected Text: Почему ты не позвонил мне?\n"
     ]
    }
   ],
   "source": [
    "rand_ind = random.randint(0, len(lines) - 1)\n",
    "# Pick a line\n",
    "text = lines[rand_ind]\n",
    "print(f\"Selected Text: {text}\")"
   ]
  },
  {
   "cell_type": "code",
   "execution_count": 4,
   "id": "4d9934d3",
   "metadata": {},
   "outputs": [
    {
     "name": "stdout",
     "output_type": "stream",
     "text": [
      "Cleaned Text: почему ты не позвонил мне\n"
     ]
    }
   ],
   "source": [
    "# Clean text\n",
    "cleaned = clean_text(text)\n",
    "print(f\"Cleaned Text: {cleaned}\")"
   ]
  },
  {
   "cell_type": "code",
   "execution_count": 5,
   "id": "6e3fe728",
   "metadata": {},
   "outputs": [
    {
     "name": "stdout",
     "output_type": "stream",
     "text": [
      "Tokens: ['почему', 'ты', 'не', 'позвонил', 'мне']\n"
     ]
    }
   ],
   "source": [
    "# Tokenize text\n",
    "tokens = tokenize_text(cleaned)\n",
    "print(f\"Tokens: {tokens}\")"
   ]
  },
  {
   "cell_type": "code",
   "execution_count": 6,
   "id": "d833e3eb",
   "metadata": {},
   "outputs": [
    {
     "name": "stdout",
     "output_type": "stream",
     "text": [
      "Filtered Tokens: ['почему', 'позвонил']\n"
     ]
    }
   ],
   "source": [
    "# Remove stopwords\n",
    "filtered_tokens = remove_stopwords(tokens)\n",
    "print(f\"Filtered Tokens: {filtered_tokens}\")"
   ]
  },
  {
   "cell_type": "code",
   "execution_count": 7,
   "id": "b196d9ee",
   "metadata": {},
   "outputs": [
    {
     "name": "stdout",
     "output_type": "stream",
     "text": [
      "Lemmas: ['почему', 'позвонить']\n"
     ]
    }
   ],
   "source": [
    "lemmas = lemmatize_tokens(filtered_tokens)\n",
    "print(f\"Lemmas: {lemmas}\")"
   ]
  },
  {
   "cell_type": "markdown",
   "id": "f61ee3ba",
   "metadata": {},
   "source": [
    "### Process and  Store Entire File"
   ]
  },
  {
   "cell_type": "code",
   "execution_count": 8,
   "id": "798226ca",
   "metadata": {},
   "outputs": [
    {
     "name": "stdout",
     "output_type": "stream",
     "text": [
      "Original: Привет, как дела?\n",
      "Cleaned: привет как дела\n",
      "Tokens: ['привет', 'дела']\n",
      "Lemmas: ['привет', 'дело']\n",
      "----------------------------------------\n",
      "Original: Сегодня хорошая погода.\n",
      "Cleaned: сегодня хорошая погода\n",
      "Tokens: ['сегодня', 'хорошая', 'погода']\n",
      "Lemmas: ['сегодня', 'хороший', 'погода']\n",
      "----------------------------------------\n",
      "Original: Я люблю изучать русский язык.\n",
      "Cleaned: я люблю изучать русский язык\n",
      "Tokens: ['люблю', 'изучать', 'русский', 'язык']\n",
      "Lemmas: ['любить', 'изучать', 'русский', 'язык']\n",
      "----------------------------------------\n",
      "Original: Москва — столица России.\n",
      "Cleaned: москва столица россии\n",
      "Tokens: ['москва', 'столица', 'россии']\n",
      "Lemmas: ['москва', 'столица', 'россия']\n",
      "----------------------------------------\n",
      "Original: Он не пришёл на встречу.\n",
      "Cleaned: он не пришёл на встречу\n",
      "Tokens: ['пришёл', 'встречу']\n",
      "Lemmas: ['прийти', 'встреча']\n",
      "----------------------------------------\n",
      "Processed File Stored in: ..\\data\\processed_results_ru.db\n"
     ]
    }
   ],
   "source": [
    "process_file(str(INPUT_FILE))\n",
    "print(f\"Processed File Stored in: {DB_FILE}\")"
   ]
  },
  {
   "cell_type": "markdown",
   "id": "bbc053f9",
   "metadata": {},
   "source": [
    "### Inspect DB Results"
   ]
  },
  {
   "cell_type": "code",
   "execution_count": 9,
   "id": "00e1057a",
   "metadata": {},
   "outputs": [
    {
     "data": {
      "text/html": [
       "<div>\n",
       "<style scoped>\n",
       "    .dataframe tbody tr th:only-of-type {\n",
       "        vertical-align: middle;\n",
       "    }\n",
       "\n",
       "    .dataframe tbody tr th {\n",
       "        vertical-align: top;\n",
       "    }\n",
       "\n",
       "    .dataframe thead th {\n",
       "        text-align: right;\n",
       "    }\n",
       "</style>\n",
       "<table border=\"1\" class=\"dataframe\">\n",
       "  <thead>\n",
       "    <tr style=\"text-align: right;\">\n",
       "      <th></th>\n",
       "      <th>id</th>\n",
       "      <th>original_text</th>\n",
       "      <th>cleaned_text</th>\n",
       "      <th>tokens</th>\n",
       "      <th>lemmas</th>\n",
       "    </tr>\n",
       "  </thead>\n",
       "  <tbody>\n",
       "    <tr>\n",
       "      <th>0</th>\n",
       "      <td>1</td>\n",
       "      <td>Привет, как дела?</td>\n",
       "      <td>привет как дела</td>\n",
       "      <td>привет дела</td>\n",
       "      <td>привет дело</td>\n",
       "    </tr>\n",
       "    <tr>\n",
       "      <th>1</th>\n",
       "      <td>2</td>\n",
       "      <td>Сегодня хорошая погода.</td>\n",
       "      <td>сегодня хорошая погода</td>\n",
       "      <td>сегодня хорошая погода</td>\n",
       "      <td>сегодня хороший погода</td>\n",
       "    </tr>\n",
       "    <tr>\n",
       "      <th>2</th>\n",
       "      <td>3</td>\n",
       "      <td>Я люблю изучать русский язык.</td>\n",
       "      <td>я люблю изучать русский язык</td>\n",
       "      <td>люблю изучать русский язык</td>\n",
       "      <td>любить изучать русский язык</td>\n",
       "    </tr>\n",
       "    <tr>\n",
       "      <th>3</th>\n",
       "      <td>4</td>\n",
       "      <td>Москва — столица России.</td>\n",
       "      <td>москва столица россии</td>\n",
       "      <td>москва столица россии</td>\n",
       "      <td>москва столица россия</td>\n",
       "    </tr>\n",
       "    <tr>\n",
       "      <th>4</th>\n",
       "      <td>5</td>\n",
       "      <td>Он не пришёл на встречу.</td>\n",
       "      <td>он не пришёл на встречу</td>\n",
       "      <td>пришёл встречу</td>\n",
       "      <td>прийти встреча</td>\n",
       "    </tr>\n",
       "    <tr>\n",
       "      <th>5</th>\n",
       "      <td>6</td>\n",
       "      <td>Мы поехали в Санкт-Петербург.</td>\n",
       "      <td>мы поехали в санкт петербург</td>\n",
       "      <td>поехали санкт петербург</td>\n",
       "      <td>поехать санкт петербург</td>\n",
       "    </tr>\n",
       "    <tr>\n",
       "      <th>6</th>\n",
       "      <td>7</td>\n",
       "      <td>Ты читаешь эту книгу?</td>\n",
       "      <td>ты читаешь эту книгу</td>\n",
       "      <td>читаешь книгу</td>\n",
       "      <td>читать книга</td>\n",
       "    </tr>\n",
       "    <tr>\n",
       "      <th>7</th>\n",
       "      <td>8</td>\n",
       "      <td>Это очень интересная история.</td>\n",
       "      <td>это очень интересная история</td>\n",
       "      <td>это очень интересная история</td>\n",
       "      <td>это очень интересный история</td>\n",
       "    </tr>\n",
       "    <tr>\n",
       "      <th>8</th>\n",
       "      <td>9</td>\n",
       "      <td>Они быстро нашли решение.</td>\n",
       "      <td>они быстро нашли решение</td>\n",
       "      <td>быстро нашли решение</td>\n",
       "      <td>быстро найти решение</td>\n",
       "    </tr>\n",
       "    <tr>\n",
       "      <th>9</th>\n",
       "      <td>10</td>\n",
       "      <td>Я никогда не видел такого.</td>\n",
       "      <td>я никогда не видел такого</td>\n",
       "      <td>видел такого</td>\n",
       "      <td>видеть такой</td>\n",
       "    </tr>\n",
       "  </tbody>\n",
       "</table>\n",
       "</div>"
      ],
      "text/plain": [
       "   id                  original_text                  cleaned_text  \\\n",
       "0   1              Привет, как дела?               привет как дела   \n",
       "1   2        Сегодня хорошая погода.        сегодня хорошая погода   \n",
       "2   3  Я люблю изучать русский язык.  я люблю изучать русский язык   \n",
       "3   4       Москва — столица России.         москва столица россии   \n",
       "4   5       Он не пришёл на встречу.       он не пришёл на встречу   \n",
       "5   6  Мы поехали в Санкт-Петербург.  мы поехали в санкт петербург   \n",
       "6   7          Ты читаешь эту книгу?          ты читаешь эту книгу   \n",
       "7   8  Это очень интересная история.  это очень интересная история   \n",
       "8   9      Они быстро нашли решение.      они быстро нашли решение   \n",
       "9  10     Я никогда не видел такого.     я никогда не видел такого   \n",
       "\n",
       "                         tokens                        lemmas  \n",
       "0                   привет дела                   привет дело  \n",
       "1        сегодня хорошая погода        сегодня хороший погода  \n",
       "2    люблю изучать русский язык   любить изучать русский язык  \n",
       "3         москва столица россии         москва столица россия  \n",
       "4                пришёл встречу                прийти встреча  \n",
       "5       поехали санкт петербург       поехать санкт петербург  \n",
       "6                 читаешь книгу                  читать книга  \n",
       "7  это очень интересная история  это очень интересный история  \n",
       "8          быстро нашли решение          быстро найти решение  \n",
       "9                  видел такого                  видеть такой  "
      ]
     },
     "execution_count": 9,
     "metadata": {},
     "output_type": "execute_result"
    }
   ],
   "source": [
    "# Connect and load data\n",
    "conn = sqlite3.connect(DB_FILE)\n",
    "df = pd.read_sql_query(\"SELECT * FROM processed_ru LIMIT 10;\", conn)\n",
    "conn.close()\n",
    "\n",
    "df"
   ]
  },
  {
   "cell_type": "markdown",
   "id": "af374225",
   "metadata": {},
   "source": [
    "### Visualize Token Count"
   ]
  },
  {
   "cell_type": "code",
   "execution_count": 10,
   "id": "53f4256b",
   "metadata": {},
   "outputs": [
    {
     "data": {
      "text/html": [
       "<div>\n",
       "<style scoped>\n",
       "    .dataframe tbody tr th:only-of-type {\n",
       "        vertical-align: middle;\n",
       "    }\n",
       "\n",
       "    .dataframe tbody tr th {\n",
       "        vertical-align: top;\n",
       "    }\n",
       "\n",
       "    .dataframe thead th {\n",
       "        text-align: right;\n",
       "    }\n",
       "</style>\n",
       "<table border=\"1\" class=\"dataframe\">\n",
       "  <thead>\n",
       "    <tr style=\"text-align: right;\">\n",
       "      <th></th>\n",
       "      <th>original_text</th>\n",
       "      <th>token_count</th>\n",
       "    </tr>\n",
       "  </thead>\n",
       "  <tbody>\n",
       "    <tr>\n",
       "      <th>0</th>\n",
       "      <td>Привет, как дела?</td>\n",
       "      <td>2</td>\n",
       "    </tr>\n",
       "    <tr>\n",
       "      <th>1</th>\n",
       "      <td>Сегодня хорошая погода.</td>\n",
       "      <td>3</td>\n",
       "    </tr>\n",
       "    <tr>\n",
       "      <th>2</th>\n",
       "      <td>Я люблю изучать русский язык.</td>\n",
       "      <td>4</td>\n",
       "    </tr>\n",
       "    <tr>\n",
       "      <th>3</th>\n",
       "      <td>Москва — столица России.</td>\n",
       "      <td>3</td>\n",
       "    </tr>\n",
       "    <tr>\n",
       "      <th>4</th>\n",
       "      <td>Он не пришёл на встречу.</td>\n",
       "      <td>2</td>\n",
       "    </tr>\n",
       "    <tr>\n",
       "      <th>5</th>\n",
       "      <td>Мы поехали в Санкт-Петербург.</td>\n",
       "      <td>3</td>\n",
       "    </tr>\n",
       "    <tr>\n",
       "      <th>6</th>\n",
       "      <td>Ты читаешь эту книгу?</td>\n",
       "      <td>2</td>\n",
       "    </tr>\n",
       "    <tr>\n",
       "      <th>7</th>\n",
       "      <td>Это очень интересная история.</td>\n",
       "      <td>4</td>\n",
       "    </tr>\n",
       "    <tr>\n",
       "      <th>8</th>\n",
       "      <td>Они быстро нашли решение.</td>\n",
       "      <td>3</td>\n",
       "    </tr>\n",
       "    <tr>\n",
       "      <th>9</th>\n",
       "      <td>Я никогда не видел такого.</td>\n",
       "      <td>2</td>\n",
       "    </tr>\n",
       "  </tbody>\n",
       "</table>\n",
       "</div>"
      ],
      "text/plain": [
       "                   original_text  token_count\n",
       "0              Привет, как дела?            2\n",
       "1        Сегодня хорошая погода.            3\n",
       "2  Я люблю изучать русский язык.            4\n",
       "3       Москва — столица России.            3\n",
       "4       Он не пришёл на встречу.            2\n",
       "5  Мы поехали в Санкт-Петербург.            3\n",
       "6          Ты читаешь эту книгу?            2\n",
       "7  Это очень интересная история.            4\n",
       "8      Они быстро нашли решение.            3\n",
       "9     Я никогда не видел такого.            2"
      ]
     },
     "execution_count": 10,
     "metadata": {},
     "output_type": "execute_result"
    }
   ],
   "source": [
    "# Simple Analysis\n",
    "df[\"token_count\"] = df[\"tokens\"].apply(lambda x: len(x.split()))\n",
    "df[[\"original_text\", \"token_count\"]]"
   ]
  }
 ],
 "metadata": {
  "kernelspec": {
   "display_name": "Python 3",
   "language": "python",
   "name": "python3"
  },
  "language_info": {
   "codemirror_mode": {
    "name": "ipython",
    "version": 3
   },
   "file_extension": ".py",
   "mimetype": "text/x-python",
   "name": "python",
   "nbconvert_exporter": "python",
   "pygments_lexer": "ipython3",
   "version": "3.13.3"
  }
 },
 "nbformat": 4,
 "nbformat_minor": 5
}
